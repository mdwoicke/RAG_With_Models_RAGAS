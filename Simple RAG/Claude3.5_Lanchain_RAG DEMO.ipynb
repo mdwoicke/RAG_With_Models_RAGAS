{
 "cells": [
  {
   "cell_type": "markdown",
   "metadata": {},
   "source": [
    "\n",
    "# List of Packages to Download\n",
    "\n",
    "```python\n",
    "!pip install langchain-chroma\n",
    "!pip install langchain\n",
    "!pip install langchain_community\n",
    "!pip install langchainhub\n",
    "!pip install -qU langchain-anthropic\n",
    "\n",
    "```\n",
    "## Also fix api key\n",
    "\n",
    "\n",
    "```python\n",
    "\n",
    "import os\n",
    "\n",
    "os.environ[\"ANTHROPIC_API_KEY\"] = \"your-anthropic-key\"\n",
    "```\n",
    "\n",
    "\n",
    "______________________________________________________________________________\n",
    " "
   ]
  },
  {
   "cell_type": "code",
   "execution_count": 1,
   "metadata": {},
   "outputs": [],
   "source": [
    "import os\n",
    "#os.environ[\"ANTHROPIC_API_KEY\"] = \"XXXX\"\n",
    "#os.environ[\"OPENAI_API_KEY\"] = \"XXXX\""
   ]
  },
  {
   "cell_type": "markdown",
   "metadata": {},
   "source": [
    "# 1. Get a Data Loader\n"
   ]
  },
  {
   "cell_type": "code",
   "execution_count": 3,
   "metadata": {},
   "outputs": [
    {
     "data": {
      "text/plain": [
       "[Document(page_content='LeBron James | Los Angeles Lakers | NBA.com\\n\\nNavigation ToggleNBAHomeTickets2023-24 Season ScheduleU.S. Radio BroadcastersLeague Pass ScheduleLivestream ScheduleKey DatesTicketsFeaturedNBA TVNBA Finals: BOS vs. DALLatest Finals NewsScheduleAll SeriesBracketNBA Draft HomeDraft OrderTeamsProspectsDraft FAQHomeTop StoriesDraftFree AgencySummer LeagueTransactionsFeaturesHistoryWriter ArchiveMoreStats HomePlayersTeamsLeadersStats 101Cume StatsLineups ToolMedia Central Game StatsDraftQuick LinksContact UsAtlanticBoston CelticsBrooklyn NetsNew York KnicksPhiladelphia 76ersToronto RaptorsCentralChicago BullsCleveland CavaliersDetroit PistonsIndiana PacersMilwaukee BucksSoutheastAtlanta HawksCharlotte HornetsMiami HeatOrlando MagicWashington WizardsNorthwestDenver NuggetsMinnesota TimberwolvesOklahoma City ThunderPortland Trail BlazersUtah JazzPacificGolden State WarriorsLA ClippersLos Angeles LakersPhoenix SunsSacramento KingsSouthwestDallas MavericksHouston RocketsMemphis GrizzliesNew Orleans PelicansSan Antonio SpursPlayers HomePlayer StatsStarting LineupsFree Agent TrackerTransactionsNBA Play HomeNBA Full Court GuessNBA RankNBA IQNBA Player PathNBA BlastNBA Hoop ConnectNBABet HomeAuthorized Gaming OperatorsNBA StoreJerseysMenWomenKidsCustom ShopHardwood ClassicsHatsFootwearAuctionsNBA Game WornNYC StoreNBA Photo StoreNBATickets.comOfficial Tickets by TicketmasterNBA ExperiencesNBA G LeagueWNBANBA 2K LeagueBasketball Africa LeagueGamesScheduleWatchNBA FinalsDraftNewsStatsStandingsTeamsPlayersNBA PlayFuture Starts NowNBA FitnessNBABetLeague PassStoreTicketsAffiliatesFeaturedNBA TVLos Angeles Lakers | #23 | ForwardLeBronJamesFOLLOWPPG25.7RPG7.3APG8.3PIE16.9HEIGHT6\\'9\" (2.06m)WEIGHT250lb (113kg)COUNTRYUSALAST ATTENDEDSt. Vincent-St. Mary HS (OH)AGE39 yearsBIRTHDATEDecember 30, 1984DRAFT2003 R1 Pick 1EXPERIENCE21 Years6\\'9\" |   250lb | 39 yearsDRAFT2003 R1 Pick 1BIRTHDATEDecember 30, 1984COUNTRYUSALAST ATTENDEDSt. Vincent-St. Mary HS (OH)EXPERIENCE21 YearsProfileStatsBioVideosRotowireRosterlakers.comStoreTicketsLatest Videos00:04:15End-of-Season 2023-24 Interview: LeBron James00:01:50LeBron James Game Highlights 04-29-2400:08:22Postgame Interview: LeBron James & Anthony Davis 04-25-2400:01:43LeBron James Game Highlights 04-25-2400:05:18Practice Report: LeBron James (4/24/24)00:04:54Postgame Interview: LeBron James 04-20-2400:02:02LeBron James Game Highlights 04-20-2400:06:46Practice Report: LeBron James (4/18/24)00:02:01LeBron James Game Highlights 04-16-2400:23:37Every LeBron 3 of the 2023-24 Season\\xa0Last 5 GamesGame DateMatchupW/LMINPTSFGMFGAFG%3PM3PA3P%FTMFTAFT%OREBDREBREBASTSTLBLKTOVPF+/-APR 29, 2024LAL @ DENL4430112152.43742.95771.41891140143APR 27, 2024LAL vs. DENW3930142360.9020.022100145431601APR 25, 2024LAL vs. DENL4226122060.01616.71250.006692133-8APR 22, 2024LAL @ DENL382691947.43650.05771.40881222232APR 20, 2024LAL @ DENL4127101662.53560.04580.024681171-9Player NewsSee All04/30/2024, 5:11 AMLeads LA with 30 pointsJames produced 30 points (11-21 FG, 3-7 3Pt, 5-7 FT), nine rebounds, 11 assists and four steals in 44 minutes during Monday\\'s 108-106 loss to the Nuggets in Game 5 of the first round of the Western Conference playoffs.04/30/2024, 1:25 AMAvailable for Game 5James (ankle) has been cleared to play in Monday\\'s Game 5 against Denver, Mike Trudell of Spectrum SportsNet reports.04/28/2024, 11:45 PMProbable for Game 5James (ankle) is probable for Monday\\'s Game 5 against the Nuggets, Khobi Price of The Orange County Register reports.04/28/2024, 4:30 AMShines with 30-point game SaturdayJames ended with 30 points (14-23 FG, 0-2 3Pt, 2-2 FT), five rebounds, four assists, one block and three steals over 39 minutes during Saturday\\'s 119-108 victory over the Nuggets in Game 4 of the first round of the Western Conference playoffs.04/27/2024, 11:38 PMCleared to playJames (ankle) is good to go for Saturday\\'s Game 4 versus the Nuggets.Awards and Honors6 All-Defensive Team20 All-NBA1 All-Rookie Team3 NBA All-Star Most Valuable Player4 NBA Finals Most Valuable Player4 NBA Most Valuable Player39 NBA Player of the Month67 NBA Player of the Week6 NBA Rookie of the Month1 NBA Rookie of the Year1 NBA Sporting News Most Valuable Player of the Year1 NBA Sporting News Rookie of the Year1 Olympic Bronze Medal2 Olympic Gold Medal1 NBA In-Season Tournament Most Valuable Player1 NBA In-Season Tournament All-Tournament20 NBA All-Star4 NBA ChampionExplore More Players on the Lakers#0  | GJalenHood-Schifino#1  | GD\\'AngeloRussell#2  | FJarredVanderbilt#3  | F-CAnthonyDavis#4  | GSkylarMays#5  | F-GCamReddish#7  | GGabeVincent#10  | GMaxChristie#11  | C-FJaxsonHayes#12  | FTaureanPrince#14  | CColinCastleton#15  | GAustinReaves#20  | F-CHarryGiles#21  | FMaxwellLewis#26  | GSpencerDinwiddie#28  | FRuiHachimura#35  | FChristianWood\\xa0NBA OrganizationNBA IDNBA OfficialNBA CareersNBA Fan Code of ConductNBA InitiativesNBA CaresJr. NBANBA FoundationSocial Justice CoalitionAcross The LeagueNBA CommunicationsLockervisionNBA TransactionsShopGlobal StoresNYC StoreNBA AuctionsNBA PhotostoreSubscriptionsLeague PassCustomer Support', metadata={'source': 'https://www.nba.com/player/2544/lebron-james', 'title': 'LeBron James | Los Angeles Lakers | NBA.com', 'description': 'LeBron James Stats and news - NBA stats and news on Los Angeles Lakers Forward LeBron James', 'language': 'en'})]"
      ]
     },
     "execution_count": 3,
     "metadata": {},
     "output_type": "execute_result"
    }
   ],
   "source": [
    "from langchain_community.document_loaders import WebBaseLoader\n",
    "\n",
    "loader = WebBaseLoader(\"https://www.nba.com/player/2544/lebron-james\")\n",
    "data = loader.load()\n",
    "data\n"
   ]
  },
  {
   "cell_type": "markdown",
   "metadata": {},
   "source": [
    "# 2. Convert data to Vector Database\n"
   ]
  },
  {
   "cell_type": "code",
   "execution_count": 4,
   "metadata": {},
   "outputs": [
    {
     "name": "stderr",
     "output_type": "stream",
     "text": [
      "WARNING:langchain_openai.embeddings.base:Warning: model not found. Using cl100k_base encoding.\n"
     ]
    },
    {
     "data": {
      "text/plain": [
       "<langchain_community.vectorstores.chroma.Chroma at 0x119084710>"
      ]
     },
     "execution_count": 4,
     "metadata": {},
     "output_type": "execute_result"
    }
   ],
   "source": [
    "from langchain.vectorstores import Chroma\n",
    "from langchain_openai import OpenAIEmbeddings\n",
    "\n",
    "Chroma.from_documents(documents=data, embedding=OpenAIEmbeddings(model=\"text-embedding-3-large\"), persist_directory=\"./NEWchroma_db\")\n"
   ]
  },
  {
   "cell_type": "markdown",
   "metadata": {},
   "source": [
    "# 3. Make a RAG pipeline\n"
   ]
  },
  {
   "cell_type": "code",
   "execution_count": 5,
   "metadata": {},
   "outputs": [],
   "source": [
    "from langchain_core.output_parsers import StrOutputParser\n",
    "from langchain_core.prompts import ChatPromptTemplate\n",
    "from langchain.chains import RetrievalQA\n",
    "from langchain import hub"
   ]
  },
  {
   "cell_type": "code",
   "execution_count": 6,
   "metadata": {},
   "outputs": [],
   "source": [
    "from langchain_anthropic import ChatAnthropic\n",
    "\n",
    "llm = ChatAnthropic(\n",
    "    model=\"claude-3-5-sonnet-20240620\",\n",
    "    temperature=0,\n",
    "    max_tokens=1024,\n",
    "    timeout=None,\n",
    "    max_retries=2,\n",
    ")\n",
    "\n",
    "\n"
   ]
  },
  {
   "cell_type": "code",
   "execution_count": 7,
   "metadata": {},
   "outputs": [],
   "source": [
    "prompt = hub.pull(\"rlm/rag-prompt\")\n",
    "vectorstore = Chroma(persist_directory=\"./NEWchroma_db\", embedding_function=OpenAIEmbeddings(model=\"text-embedding-3-large\"))"
   ]
  },
  {
   "cell_type": "code",
   "execution_count": 8,
   "metadata": {},
   "outputs": [],
   "source": [
    "qa_chain = RetrievalQA.from_chain_type(\n",
    "        llm,\n",
    "        retriever=vectorstore.as_retriever(),\n",
    "        chain_type_kwargs={\"prompt\": prompt}\n",
    "    )"
   ]
  },
  {
   "cell_type": "code",
   "execution_count": 13,
   "metadata": {},
   "outputs": [
    {
     "name": "stderr",
     "output_type": "stream",
     "text": [
      "WARNING:langchain_openai.embeddings.base:Warning: model not found. Using cl100k_base encoding.\n",
      "WARNING:chromadb.segment.impl.vector.local_persistent_hnsw:Number of requested results 4 is greater than number of elements in index 1, updating n_results = 1\n"
     ]
    }
   ],
   "source": [
    "question = \"What is the stats from his recent game from april 29th\"\n",
    "result = qa_chain({\"query\": question })"
   ]
  },
  {
   "cell_type": "code",
   "execution_count": 14,
   "metadata": {},
   "outputs": [
    {
     "data": {
      "text/plain": [
       "{'query': 'What is the stats from his recent game from april 29th',\n",
       " 'result': \"I don't have specific stats from LeBron James' game on April 29th, 2024 in the context provided. The most recent game information shown is from April 29, 2024, but it only lists the minutes played (44) without other detailed statistics. For the most up-to-date and accurate game stats, it would be best to check official NBA sources or recent news reports.\"}"
      ]
     },
     "execution_count": 14,
     "metadata": {},
     "output_type": "execute_result"
    }
   ],
   "source": [
    "result"
   ]
  },
  {
   "cell_type": "code",
   "execution_count": null,
   "metadata": {},
   "outputs": [],
   "source": []
  }
 ],
 "metadata": {
  "kernelspec": {
   "display_name": "base",
   "language": "python",
   "name": "python3"
  },
  "language_info": {
   "codemirror_mode": {
    "name": "ipython",
    "version": 3
   },
   "file_extension": ".py",
   "mimetype": "text/x-python",
   "name": "python",
   "nbconvert_exporter": "python",
   "pygments_lexer": "ipython3",
   "version": "3.11.7"
  }
 },
 "nbformat": 4,
 "nbformat_minor": 2
}
