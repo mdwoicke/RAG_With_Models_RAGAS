{
  "cells": [
    {
      "cell_type": "markdown",
      "metadata": {
        "id": "rdEptqcyiw-E"
      },
      "source": [
        "# List of Packages to Download\n"
      ]
    },
    {
      "cell_type": "code",
      "execution_count": null,
      "metadata": {
        "id": "9DluPJ8gi3ZU"
      },
      "outputs": [],
      "source": [
        "!pip install langchain-chroma\n",
        "!pip install langchain\n",
        "!pip install langchain_community\n",
        "!pip install langchainhub"
      ]
    },
    {
      "cell_type": "code",
      "execution_count": null,
      "metadata": {
        "id": "hcFr7Mnbj1Fj"
      },
      "outputs": [],
      "source": [
        "#!pip install --upgrade gpt4all"
      ]
    },
    {
      "cell_type": "code",
      "execution_count": null,
      "metadata": {
        "id": "k1QprDoRmqz0"
      },
      "outputs": [],
      "source": [
        "pip install langchain-huggingface"
      ]
    },
    {
      "cell_type": "code",
      "execution_count": 3,
      "metadata": {
        "id": "_RVVuicFqaLm"
      },
      "outputs": [],
      "source": [
        "!pip install --upgrade --quiet  langchain sentence_transformers"
      ]
    },
    {
      "cell_type": "markdown",
      "metadata": {
        "id": "xPHSZPfJiw-F"
      },
      "source": [
        "# 1. Get a Data Loader\n"
      ]
    },
    {
      "cell_type": "code",
      "execution_count": 5,
      "metadata": {
        "colab": {
          "base_uri": "https://localhost:8080/"
        },
        "id": "RzvhxClqiw-F",
        "outputId": "889879a3-66d4-4741-84e6-bc95e35b386c"
      },
      "outputs": [
        {
          "name": "stderr",
          "output_type": "stream",
          "text": [
            "WARNING:root:USER_AGENT environment variable not set, consider setting it to identify your requests.\n"
          ]
        }
      ],
      "source": [
        "from langchain_community.document_loaders import WebBaseLoader\n"
      ]
    },
    {
      "cell_type": "code",
      "execution_count": null,
      "metadata": {
        "id": "rnbw1kzCiw-G"
      },
      "outputs": [],
      "source": [
        "loader = WebBaseLoader(\"https://www.foxsports.com/nba/lebron-james-player-game-log?season=2023&seasonType=reg\")\n",
        "data = loader.load()\n",
        "data"
      ]
    },
    {
      "cell_type": "markdown",
      "metadata": {
        "id": "sOf8W2IHiw-G"
      },
      "source": [
        "# 2. Convert data to Vector Database\n"
      ]
    },
    {
      "cell_type": "code",
      "execution_count": 7,
      "metadata": {
        "id": "1toJ3SPaiw-G"
      },
      "outputs": [],
      "source": [
        "from langchain.vectorstores import Chroma\n",
        "from langchain_huggingface import HuggingFaceEmbeddings\n",
        "embeddings_model = HuggingFaceEmbeddings() #sentence-transformers/all-mpnet-base-v2\n"
      ]
    },
    {
      "cell_type": "code",
      "execution_count": null,
      "metadata": {
        "id": "Y_iD186z0Cy8"
      },
      "outputs": [],
      "source": [
        "#embeddings_model = HuggingFaceEmbeddings() #sentence-transformers/all-mpnet-base-v2"
      ]
    },
    {
      "cell_type": "code",
      "execution_count": 9,
      "metadata": {
        "colab": {
          "base_uri": "https://localhost:8080/"
        },
        "id": "YrtCA-M20JNH",
        "outputId": "3494c49f-99db-4d90-b125-bc951e7d2b6b"
      },
      "outputs": [
        {
          "data": {
            "text/plain": [
              "<langchain_community.vectorstores.chroma.Chroma at 0x79b89015a9e0>"
            ]
          },
          "execution_count": 9,
          "metadata": {},
          "output_type": "execute_result"
        }
      ],
      "source": [
        "Chroma.from_documents(documents=data, embedding=embeddings_model, persist_directory=\"./chroma_db\")"
      ]
    },
    {
      "cell_type": "markdown",
      "metadata": {
        "id": "LxOE6JTeiw-G"
      },
      "source": [
        "# 3. Make a RAG pipeline\n"
      ]
    },
    {
      "cell_type": "code",
      "execution_count": 10,
      "metadata": {
        "id": "z3czNRmoiw-G"
      },
      "outputs": [],
      "source": [
        "from langchain_community.chat_models import ChatOllama\n",
        "from langchain_core.output_parsers import StrOutputParser\n",
        "from langchain_core.prompts import ChatPromptTemplate\n",
        "from langchain.chains import RetrievalQA\n",
        "from langchain import hub\n",
        "from langchain_huggingface.llms import HuggingFacePipeline\n",
        "from transformers import AutoModelForCausalLM, AutoTokenizer, pipeline\n"
      ]
    },
    {
      "cell_type": "code",
      "execution_count": null,
      "metadata": {
        "id": "kE3XhYXD0Sjv"
      },
      "outputs": [],
      "source": [
        "model_id = \"Qwen/Qwen2-7B-Instruct\"\n",
        "tokenizer = AutoTokenizer.from_pretrained(model_id)\n",
        "model = AutoModelForCausalLM.from_pretrained(model_id)\n",
        "pipe = pipeline(\"text-generation\", model=model, tokenizer=tokenizer, max_new_tokens=100)\n",
        "hf = HuggingFacePipeline(pipeline=pipe)"
      ]
    },
    {
      "cell_type": "code",
      "execution_count": 12,
      "metadata": {
        "colab": {
          "base_uri": "https://localhost:8080/"
        },
        "id": "YQH6-Edb0oj_",
        "outputId": "e26fa4ad-4095-4f7d-dcc8-d9311490b783"
      },
      "outputs": [
        {
          "name": "stderr",
          "output_type": "stream",
          "text": [
            "/usr/local/lib/python3.10/dist-packages/huggingface_hub/file_download.py:1132: FutureWarning: `resume_download` is deprecated and will be removed in version 1.0.0. Downloads always resume when possible. If you want to force a new download, use `force_download=True`.\n",
            "  warnings.warn(\n"
          ]
        }
      ],
      "source": [
        "llm = hf\n",
        "\n",
        "#uncomment if using ollama\n",
        "#llm = ChatOllama(model=\"qwen2\")\n",
        "\n",
        "prompt = hub.pull(\"rlm/rag-prompt\")\n",
        "vectorstore = Chroma(persist_directory=\"./chroma_db\", embedding_function=HuggingFaceEmbeddings())"
      ]
    },
    {
      "cell_type": "code",
      "execution_count": 13,
      "metadata": {
        "id": "24kCxa6R1Lvx"
      },
      "outputs": [],
      "source": [
        "qa_chain = RetrievalQA.from_chain_type(\n",
        "        llm,\n",
        "        retriever=vectorstore.as_retriever(),\n",
        "        chain_type_kwargs={\"prompt\": prompt}\n",
        "    )"
      ]
    },
    {
      "cell_type": "code",
      "execution_count": 14,
      "metadata": {
        "colab": {
          "base_uri": "https://localhost:8080/"
        },
        "id": "8l2jfE961NwD",
        "outputId": "438f1e6e-bc33-4af9-80ce-e742b352e534"
      },
      "outputs": [
        {
          "name": "stderr",
          "output_type": "stream",
          "text": [
            "/usr/local/lib/python3.10/dist-packages/langchain_core/_api/deprecation.py:119: LangChainDeprecationWarning: The method `Chain.__call__` was deprecated in langchain 0.1.0 and will be removed in 0.3.0. Use invoke instead.\n",
            "  warn_deprecated(\n",
            "WARNING:chromadb.segment.impl.vector.local_persistent_hnsw:Number of requested results 4 is greater than number of elements in index 1, updating n_results = 1\n"
          ]
        }
      ],
      "source": [
        "question = \"Who's stats are these\"\n",
        "result = qa_chain({\"query\": question })"
      ]
    },
    {
      "cell_type": "code",
      "execution_count": null,
      "metadata": {
        "id": "Dxylc0kI3vqx"
      },
      "outputs": [],
      "source": [
        "result[\"result\"]"
      ]
    },
    {
      "cell_type": "code",
      "execution_count": null,
      "metadata": {
        "id": "hVOEtwTW2YR9"
      },
      "outputs": [],
      "source": []
    }
  ],
  "metadata": {
    "accelerator": "GPU",
    "colab": {
      "gpuType": "L4",
      "machine_shape": "hm",
      "provenance": []
    },
    "kernelspec": {
      "display_name": "Python 3",
      "name": "python3"
    },
    "language_info": {
      "codemirror_mode": {
        "name": "ipython",
        "version": 3
      },
      "file_extension": ".py",
      "mimetype": "text/x-python",
      "name": "python",
      "nbconvert_exporter": "python",
      "pygments_lexer": "ipython3",
      "version": "3.11.7"
    }
  },
  "nbformat": 4,
  "nbformat_minor": 0
}
